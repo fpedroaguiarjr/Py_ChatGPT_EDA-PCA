{
 "cells": [
  {
   "cell_type": "markdown",
   "metadata": {},
   "source": [
    "## Neste exemplo vamos verificar o uso do nosso dataset \"cb_br_2022.csv\" para verificarmos o 'custo benefício', ou, talvez, o motivo que levou determinado veículo ao topo das vendas.\n",
    "### Vamos usar dados reais dos seis automóveis \"populares\" mais vendidos no Brasil em 2022, sendo estes os carros de entrada em suas variações e seus preços médios. Vamos analisar a capacidade dos motores, como consumo, torque e potência. É um exemplo simples, apenas para entender a PCA, suas aplicações, resultados e a necessidade de se aplicar ou não."
   ]
  },
  {
   "cell_type": "code",
   "execution_count": 106,
   "metadata": {},
   "outputs": [],
   "source": [
    "# Importando nossas bibliotecas\n",
    "import pandas as pd\n",
    "import numpy as np\n",
    "import matplotlib.pyplot as plt \n",
    "from sklearn.decomposition import PCA"
   ]
  },
  {
   "cell_type": "code",
   "execution_count": 107,
   "metadata": {},
   "outputs": [
    {
     "data": {
      "text/html": [
       "<div>\n",
       "<style scoped>\n",
       "    .dataframe tbody tr th:only-of-type {\n",
       "        vertical-align: middle;\n",
       "    }\n",
       "\n",
       "    .dataframe tbody tr th {\n",
       "        vertical-align: top;\n",
       "    }\n",
       "\n",
       "    .dataframe thead th {\n",
       "        text-align: right;\n",
       "    }\n",
       "</style>\n",
       "<table border=\"1\" class=\"dataframe\">\n",
       "  <thead>\n",
       "    <tr style=\"text-align: right;\">\n",
       "      <th></th>\n",
       "      <th>modelo</th>\n",
       "      <th>motor</th>\n",
       "      <th>km/litro_gas_cid</th>\n",
       "      <th>km/litro_gas_est</th>\n",
       "      <th>km/litro_alc_cid</th>\n",
       "      <th>km/litro_alc_est</th>\n",
       "      <th>peso/kg</th>\n",
       "      <th>torque_gas</th>\n",
       "      <th>torque_alc</th>\n",
       "      <th>cavalos_gas</th>\n",
       "      <th>cavalos_alc</th>\n",
       "      <th>valor</th>\n",
       "    </tr>\n",
       "  </thead>\n",
       "  <tbody>\n",
       "    <tr>\n",
       "      <th>0</th>\n",
       "      <td>Strada CS</td>\n",
       "      <td>1.4</td>\n",
       "      <td>10.8</td>\n",
       "      <td>12.3</td>\n",
       "      <td>7.4</td>\n",
       "      <td>8.5</td>\n",
       "      <td>1.151</td>\n",
       "      <td>13.7</td>\n",
       "      <td>14.2</td>\n",
       "      <td>85</td>\n",
       "      <td>88</td>\n",
       "      <td>93.890</td>\n",
       "    </tr>\n",
       "    <tr>\n",
       "      <th>1</th>\n",
       "      <td>Gol msi</td>\n",
       "      <td>1.0</td>\n",
       "      <td>13.3</td>\n",
       "      <td>14.4</td>\n",
       "      <td>9.1</td>\n",
       "      <td>10.1</td>\n",
       "      <td>1.001</td>\n",
       "      <td>9.7</td>\n",
       "      <td>10.4</td>\n",
       "      <td>75</td>\n",
       "      <td>84</td>\n",
       "      <td>63.738</td>\n",
       "    </tr>\n",
       "    <tr>\n",
       "      <th>2</th>\n",
       "      <td>Onix hb</td>\n",
       "      <td>1.0</td>\n",
       "      <td>13.9</td>\n",
       "      <td>16.7</td>\n",
       "      <td>9.9</td>\n",
       "      <td>11.7</td>\n",
       "      <td>1.037</td>\n",
       "      <td>9.6</td>\n",
       "      <td>10.6</td>\n",
       "      <td>78</td>\n",
       "      <td>82</td>\n",
       "      <td>63.430</td>\n",
       "    </tr>\n",
       "    <tr>\n",
       "      <th>3</th>\n",
       "      <td>Ka hb</td>\n",
       "      <td>1.0</td>\n",
       "      <td>13.4</td>\n",
       "      <td>15.5</td>\n",
       "      <td>9.2</td>\n",
       "      <td>10.7</td>\n",
       "      <td>1.037</td>\n",
       "      <td>10.2</td>\n",
       "      <td>10.7</td>\n",
       "      <td>80</td>\n",
       "      <td>85</td>\n",
       "      <td>49.890</td>\n",
       "    </tr>\n",
       "    <tr>\n",
       "      <th>4</th>\n",
       "      <td>Hb20</td>\n",
       "      <td>1.0</td>\n",
       "      <td>12.8</td>\n",
       "      <td>14.6</td>\n",
       "      <td>9.1</td>\n",
       "      <td>10.1</td>\n",
       "      <td>1.091</td>\n",
       "      <td>9.4</td>\n",
       "      <td>10.2</td>\n",
       "      <td>75</td>\n",
       "      <td>80</td>\n",
       "      <td>63.690</td>\n",
       "    </tr>\n",
       "    <tr>\n",
       "      <th>5</th>\n",
       "      <td>Kwid</td>\n",
       "      <td>1.0</td>\n",
       "      <td>14.9</td>\n",
       "      <td>15.6</td>\n",
       "      <td>10.3</td>\n",
       "      <td>10.6</td>\n",
       "      <td>0.779</td>\n",
       "      <td>9.4</td>\n",
       "      <td>9.8</td>\n",
       "      <td>66</td>\n",
       "      <td>70</td>\n",
       "      <td>42.690</td>\n",
       "    </tr>\n",
       "  </tbody>\n",
       "</table>\n",
       "</div>"
      ],
      "text/plain": [
       "      modelo  motor  km/litro_gas_cid  km/litro_gas_est  km/litro_alc_cid  \\\n",
       "0  Strada CS    1.4              10.8              12.3               7.4   \n",
       "1    Gol msi    1.0              13.3              14.4               9.1   \n",
       "2    Onix hb    1.0              13.9              16.7               9.9   \n",
       "3      Ka hb    1.0              13.4              15.5               9.2   \n",
       "4       Hb20    1.0              12.8              14.6               9.1   \n",
       "5       Kwid    1.0              14.9              15.6              10.3   \n",
       "\n",
       "   km/litro_alc_est  peso/kg  torque_gas  torque_alc  cavalos_gas  \\\n",
       "0               8.5    1.151        13.7        14.2           85   \n",
       "1              10.1    1.001         9.7        10.4           75   \n",
       "2              11.7    1.037         9.6        10.6           78   \n",
       "3              10.7    1.037        10.2        10.7           80   \n",
       "4              10.1    1.091         9.4        10.2           75   \n",
       "5              10.6    0.779         9.4         9.8           66   \n",
       "\n",
       "   cavalos_alc   valor  \n",
       "0           88  93.890  \n",
       "1           84  63.738  \n",
       "2           82  63.430  \n",
       "3           85  49.890  \n",
       "4           80  63.690  \n",
       "5           70  42.690  "
      ]
     },
     "metadata": {},
     "output_type": "display_data"
    }
   ],
   "source": [
    "# Importando nosso dataset\n",
    "df = pd.read_csv('cb_br_2022.csv')\n",
    "display(df)"
   ]
  },
  {
   "cell_type": "code",
   "execution_count": 108,
   "metadata": {},
   "outputs": [
    {
     "name": "stdout",
     "output_type": "stream",
     "text": [
      "<class 'pandas.core.frame.DataFrame'>\n",
      "RangeIndex: 6 entries, 0 to 5\n",
      "Data columns (total 12 columns):\n",
      " #   Column            Non-Null Count  Dtype  \n",
      "---  ------            --------------  -----  \n",
      " 0   modelo            6 non-null      object \n",
      " 1   motor             6 non-null      float64\n",
      " 2   km/litro_gas_cid  6 non-null      float64\n",
      " 3   km/litro_gas_est  6 non-null      float64\n",
      " 4   km/litro_alc_cid  6 non-null      float64\n",
      " 5   km/litro_alc_est  6 non-null      float64\n",
      " 6   peso/kg           6 non-null      float64\n",
      " 7   torque_gas        6 non-null      float64\n",
      " 8   torque_alc        6 non-null      float64\n",
      " 9   cavalos_gas       6 non-null      int64  \n",
      " 10  cavalos_alc       6 non-null      int64  \n",
      " 11  valor             6 non-null      float64\n",
      "dtypes: float64(9), int64(2), object(1)\n",
      "memory usage: 704.0+ bytes\n"
     ]
    }
   ],
   "source": [
    "# Apesar deste exemplo ser pequeno, sempre precisamos fazer o trivial e verificarmos os se dados estão corretos.\n",
    "# Precisamos verificar se os dados estão com seu \"tipos (Dtype) corretos\", se não há \"nulos (Null)\", entre outros.\n",
    "df.info() # Verificando as informções "
   ]
  },
  {
   "cell_type": "code",
   "execution_count": 109,
   "metadata": {},
   "outputs": [
    {
     "data": {
      "text/html": [
       "<div>\n",
       "<style scoped>\n",
       "    .dataframe tbody tr th:only-of-type {\n",
       "        vertical-align: middle;\n",
       "    }\n",
       "\n",
       "    .dataframe tbody tr th {\n",
       "        vertical-align: top;\n",
       "    }\n",
       "\n",
       "    .dataframe thead th {\n",
       "        text-align: right;\n",
       "    }\n",
       "</style>\n",
       "<table border=\"1\" class=\"dataframe\">\n",
       "  <thead>\n",
       "    <tr style=\"text-align: right;\">\n",
       "      <th></th>\n",
       "      <th>motor</th>\n",
       "      <th>km/litro_gas_cid</th>\n",
       "      <th>km/litro_gas_est</th>\n",
       "      <th>km/litro_alc_cid</th>\n",
       "      <th>km/litro_alc_est</th>\n",
       "      <th>peso/kg</th>\n",
       "      <th>torque_gas</th>\n",
       "      <th>torque_alc</th>\n",
       "      <th>cavalos_gas</th>\n",
       "      <th>cavalos_alc</th>\n",
       "      <th>valor</th>\n",
       "    </tr>\n",
       "  </thead>\n",
       "  <tbody>\n",
       "    <tr>\n",
       "      <th>count</th>\n",
       "      <td>6.000000</td>\n",
       "      <td>6.000000</td>\n",
       "      <td>6.000000</td>\n",
       "      <td>6.000000</td>\n",
       "      <td>6.000000</td>\n",
       "      <td>6.000000</td>\n",
       "      <td>6.000000</td>\n",
       "      <td>6.000000</td>\n",
       "      <td>6.000000</td>\n",
       "      <td>6.000000</td>\n",
       "      <td>6.000000</td>\n",
       "    </tr>\n",
       "    <tr>\n",
       "      <th>mean</th>\n",
       "      <td>1.066667</td>\n",
       "      <td>13.183333</td>\n",
       "      <td>14.850000</td>\n",
       "      <td>9.166667</td>\n",
       "      <td>10.283333</td>\n",
       "      <td>1.016000</td>\n",
       "      <td>10.333333</td>\n",
       "      <td>10.983333</td>\n",
       "      <td>76.500000</td>\n",
       "      <td>81.500000</td>\n",
       "      <td>62.888000</td>\n",
       "    </tr>\n",
       "    <tr>\n",
       "      <th>std</th>\n",
       "      <td>0.163299</td>\n",
       "      <td>1.367358</td>\n",
       "      <td>1.494992</td>\n",
       "      <td>0.995322</td>\n",
       "      <td>1.051507</td>\n",
       "      <td>0.127378</td>\n",
       "      <td>1.675311</td>\n",
       "      <td>1.608001</td>\n",
       "      <td>6.348228</td>\n",
       "      <td>6.252999</td>\n",
       "      <td>17.548166</td>\n",
       "    </tr>\n",
       "    <tr>\n",
       "      <th>min</th>\n",
       "      <td>1.000000</td>\n",
       "      <td>10.800000</td>\n",
       "      <td>12.300000</td>\n",
       "      <td>7.400000</td>\n",
       "      <td>8.500000</td>\n",
       "      <td>0.779000</td>\n",
       "      <td>9.400000</td>\n",
       "      <td>9.800000</td>\n",
       "      <td>66.000000</td>\n",
       "      <td>70.000000</td>\n",
       "      <td>42.690000</td>\n",
       "    </tr>\n",
       "    <tr>\n",
       "      <th>25%</th>\n",
       "      <td>1.000000</td>\n",
       "      <td>12.925000</td>\n",
       "      <td>14.450000</td>\n",
       "      <td>9.100000</td>\n",
       "      <td>10.100000</td>\n",
       "      <td>1.010000</td>\n",
       "      <td>9.450000</td>\n",
       "      <td>10.250000</td>\n",
       "      <td>75.000000</td>\n",
       "      <td>80.500000</td>\n",
       "      <td>53.275000</td>\n",
       "    </tr>\n",
       "    <tr>\n",
       "      <th>50%</th>\n",
       "      <td>1.000000</td>\n",
       "      <td>13.350000</td>\n",
       "      <td>15.050000</td>\n",
       "      <td>9.150000</td>\n",
       "      <td>10.350000</td>\n",
       "      <td>1.037000</td>\n",
       "      <td>9.650000</td>\n",
       "      <td>10.500000</td>\n",
       "      <td>76.500000</td>\n",
       "      <td>83.000000</td>\n",
       "      <td>63.560000</td>\n",
       "    </tr>\n",
       "    <tr>\n",
       "      <th>75%</th>\n",
       "      <td>1.000000</td>\n",
       "      <td>13.775000</td>\n",
       "      <td>15.575000</td>\n",
       "      <td>9.725000</td>\n",
       "      <td>10.675000</td>\n",
       "      <td>1.077500</td>\n",
       "      <td>10.075000</td>\n",
       "      <td>10.675000</td>\n",
       "      <td>79.500000</td>\n",
       "      <td>84.750000</td>\n",
       "      <td>63.726000</td>\n",
       "    </tr>\n",
       "    <tr>\n",
       "      <th>max</th>\n",
       "      <td>1.400000</td>\n",
       "      <td>14.900000</td>\n",
       "      <td>16.700000</td>\n",
       "      <td>10.300000</td>\n",
       "      <td>11.700000</td>\n",
       "      <td>1.151000</td>\n",
       "      <td>13.700000</td>\n",
       "      <td>14.200000</td>\n",
       "      <td>85.000000</td>\n",
       "      <td>88.000000</td>\n",
       "      <td>93.890000</td>\n",
       "    </tr>\n",
       "  </tbody>\n",
       "</table>\n",
       "</div>"
      ],
      "text/plain": [
       "          motor  km/litro_gas_cid  km/litro_gas_est  km/litro_alc_cid  \\\n",
       "count  6.000000          6.000000          6.000000          6.000000   \n",
       "mean   1.066667         13.183333         14.850000          9.166667   \n",
       "std    0.163299          1.367358          1.494992          0.995322   \n",
       "min    1.000000         10.800000         12.300000          7.400000   \n",
       "25%    1.000000         12.925000         14.450000          9.100000   \n",
       "50%    1.000000         13.350000         15.050000          9.150000   \n",
       "75%    1.000000         13.775000         15.575000          9.725000   \n",
       "max    1.400000         14.900000         16.700000         10.300000   \n",
       "\n",
       "       km/litro_alc_est   peso/kg  torque_gas  torque_alc  cavalos_gas  \\\n",
       "count          6.000000  6.000000    6.000000    6.000000     6.000000   \n",
       "mean          10.283333  1.016000   10.333333   10.983333    76.500000   \n",
       "std            1.051507  0.127378    1.675311    1.608001     6.348228   \n",
       "min            8.500000  0.779000    9.400000    9.800000    66.000000   \n",
       "25%           10.100000  1.010000    9.450000   10.250000    75.000000   \n",
       "50%           10.350000  1.037000    9.650000   10.500000    76.500000   \n",
       "75%           10.675000  1.077500   10.075000   10.675000    79.500000   \n",
       "max           11.700000  1.151000   13.700000   14.200000    85.000000   \n",
       "\n",
       "       cavalos_alc      valor  \n",
       "count     6.000000   6.000000  \n",
       "mean     81.500000  62.888000  \n",
       "std       6.252999  17.548166  \n",
       "min      70.000000  42.690000  \n",
       "25%      80.500000  53.275000  \n",
       "50%      83.000000  63.560000  \n",
       "75%      84.750000  63.726000  \n",
       "max      88.000000  93.890000  "
      ]
     },
     "execution_count": 109,
     "metadata": {},
     "output_type": "execute_result"
    }
   ],
   "source": [
    "df.describe() # Para termos um panorama de como os dados se coomportam. É possível verificar a média(mean)\n",
    "# o desvio padrão(std), os quartis(25%, 50%, 75%), entre outras."
   ]
  },
  {
   "cell_type": "code",
   "execution_count": 110,
   "metadata": {},
   "outputs": [
    {
     "data": {
      "text/html": [
       "<div>\n",
       "<style scoped>\n",
       "    .dataframe tbody tr th:only-of-type {\n",
       "        vertical-align: middle;\n",
       "    }\n",
       "\n",
       "    .dataframe tbody tr th {\n",
       "        vertical-align: top;\n",
       "    }\n",
       "\n",
       "    .dataframe thead th {\n",
       "        text-align: right;\n",
       "    }\n",
       "</style>\n",
       "<table border=\"1\" class=\"dataframe\">\n",
       "  <thead>\n",
       "    <tr style=\"text-align: right;\">\n",
       "      <th></th>\n",
       "      <th>motor</th>\n",
       "      <th>km/litro_gas_cid</th>\n",
       "      <th>km/litro_gas_est</th>\n",
       "      <th>km/litro_alc_cid</th>\n",
       "      <th>km/litro_alc_est</th>\n",
       "      <th>peso/kg</th>\n",
       "      <th>torque_gas</th>\n",
       "      <th>torque_alc</th>\n",
       "      <th>cavalos_gas</th>\n",
       "      <th>cavalos_alc</th>\n",
       "      <th>valor</th>\n",
       "    </tr>\n",
       "  </thead>\n",
       "  <tbody>\n",
       "    <tr>\n",
       "      <th>motor</th>\n",
       "      <td>1.000000</td>\n",
       "      <td>-0.853903</td>\n",
       "      <td>-0.835617</td>\n",
       "      <td>-0.869554</td>\n",
       "      <td>-0.830857</td>\n",
       "      <td>0.519212</td>\n",
       "      <td>0.984488</td>\n",
       "      <td>0.979999</td>\n",
       "      <td>0.655952</td>\n",
       "      <td>0.509249</td>\n",
       "      <td>0.865493</td>\n",
       "    </tr>\n",
       "    <tr>\n",
       "      <th>km/litro_gas_cid</th>\n",
       "      <td>-0.853903</td>\n",
       "      <td>1.000000</td>\n",
       "      <td>0.868315</td>\n",
       "      <td>0.985578</td>\n",
       "      <td>0.827430</td>\n",
       "      <td>-0.849163</td>\n",
       "      <td>-0.864055</td>\n",
       "      <td>-0.891583</td>\n",
       "      <td>-0.830617</td>\n",
       "      <td>-0.777770</td>\n",
       "      <td>-0.926853</td>\n",
       "    </tr>\n",
       "    <tr>\n",
       "      <th>km/litro_gas_est</th>\n",
       "      <td>-0.835617</td>\n",
       "      <td>0.868315</td>\n",
       "      <td>1.000000</td>\n",
       "      <td>0.911291</td>\n",
       "      <td>0.993006</td>\n",
       "      <td>-0.505699</td>\n",
       "      <td>-0.815308</td>\n",
       "      <td>-0.792446</td>\n",
       "      <td>-0.494176</td>\n",
       "      <td>-0.486726</td>\n",
       "      <td>-0.779379</td>\n",
       "    </tr>\n",
       "    <tr>\n",
       "      <th>km/litro_alc_cid</th>\n",
       "      <td>-0.869554</td>\n",
       "      <td>0.985578</td>\n",
       "      <td>0.911291</td>\n",
       "      <td>1.000000</td>\n",
       "      <td>0.876499</td>\n",
       "      <td>-0.780866</td>\n",
       "      <td>-0.892767</td>\n",
       "      <td>-0.902646</td>\n",
       "      <td>-0.807149</td>\n",
       "      <td>-0.774453</td>\n",
       "      <td>-0.890952</td>\n",
       "    </tr>\n",
       "    <tr>\n",
       "      <th>km/litro_alc_est</th>\n",
       "      <td>-0.830857</td>\n",
       "      <td>0.827430</td>\n",
       "      <td>0.993006</td>\n",
       "      <td>0.876499</td>\n",
       "      <td>1.000000</td>\n",
       "      <td>-0.430494</td>\n",
       "      <td>-0.806842</td>\n",
       "      <td>-0.771419</td>\n",
       "      <td>-0.429949</td>\n",
       "      <td>-0.403037</td>\n",
       "      <td>-0.722239</td>\n",
       "    </tr>\n",
       "    <tr>\n",
       "      <th>peso/kg</th>\n",
       "      <td>0.519212</td>\n",
       "      <td>-0.849163</td>\n",
       "      <td>-0.505699</td>\n",
       "      <td>-0.780866</td>\n",
       "      <td>-0.430494</td>\n",
       "      <td>1.000000</td>\n",
       "      <td>0.559518</td>\n",
       "      <td>0.635374</td>\n",
       "      <td>0.903014</td>\n",
       "      <td>0.888140</td>\n",
       "      <td>0.783627</td>\n",
       "    </tr>\n",
       "    <tr>\n",
       "      <th>torque_gas</th>\n",
       "      <td>0.984488</td>\n",
       "      <td>-0.864055</td>\n",
       "      <td>-0.815308</td>\n",
       "      <td>-0.892767</td>\n",
       "      <td>-0.806842</td>\n",
       "      <td>0.559518</td>\n",
       "      <td>1.000000</td>\n",
       "      <td>0.991375</td>\n",
       "      <td>0.737171</td>\n",
       "      <td>0.603300</td>\n",
       "      <td>0.838635</td>\n",
       "    </tr>\n",
       "    <tr>\n",
       "      <th>torque_alc</th>\n",
       "      <td>0.979999</td>\n",
       "      <td>-0.891583</td>\n",
       "      <td>-0.792446</td>\n",
       "      <td>-0.902646</td>\n",
       "      <td>-0.771419</td>\n",
       "      <td>0.635374</td>\n",
       "      <td>0.991375</td>\n",
       "      <td>1.000000</td>\n",
       "      <td>0.788601</td>\n",
       "      <td>0.657396</td>\n",
       "      <td>0.892887</td>\n",
       "    </tr>\n",
       "    <tr>\n",
       "      <th>cavalos_gas</th>\n",
       "      <td>0.655952</td>\n",
       "      <td>-0.830617</td>\n",
       "      <td>-0.494176</td>\n",
       "      <td>-0.807149</td>\n",
       "      <td>-0.429949</td>\n",
       "      <td>0.903014</td>\n",
       "      <td>0.737171</td>\n",
       "      <td>0.788601</td>\n",
       "      <td>1.000000</td>\n",
       "      <td>0.944692</td>\n",
       "      <td>0.769190</td>\n",
       "    </tr>\n",
       "    <tr>\n",
       "      <th>cavalos_alc</th>\n",
       "      <td>0.509249</td>\n",
       "      <td>-0.777770</td>\n",
       "      <td>-0.486726</td>\n",
       "      <td>-0.774453</td>\n",
       "      <td>-0.403037</td>\n",
       "      <td>0.888140</td>\n",
       "      <td>0.603300</td>\n",
       "      <td>0.657396</td>\n",
       "      <td>0.944692</td>\n",
       "      <td>1.000000</td>\n",
       "      <td>0.709915</td>\n",
       "    </tr>\n",
       "    <tr>\n",
       "      <th>valor</th>\n",
       "      <td>0.865493</td>\n",
       "      <td>-0.926853</td>\n",
       "      <td>-0.779379</td>\n",
       "      <td>-0.890952</td>\n",
       "      <td>-0.722239</td>\n",
       "      <td>0.783627</td>\n",
       "      <td>0.838635</td>\n",
       "      <td>0.892887</td>\n",
       "      <td>0.769190</td>\n",
       "      <td>0.709915</td>\n",
       "      <td>1.000000</td>\n",
       "    </tr>\n",
       "  </tbody>\n",
       "</table>\n",
       "</div>"
      ],
      "text/plain": [
       "                     motor  km/litro_gas_cid  km/litro_gas_est  \\\n",
       "motor             1.000000         -0.853903         -0.835617   \n",
       "km/litro_gas_cid -0.853903          1.000000          0.868315   \n",
       "km/litro_gas_est -0.835617          0.868315          1.000000   \n",
       "km/litro_alc_cid -0.869554          0.985578          0.911291   \n",
       "km/litro_alc_est -0.830857          0.827430          0.993006   \n",
       "peso/kg           0.519212         -0.849163         -0.505699   \n",
       "torque_gas        0.984488         -0.864055         -0.815308   \n",
       "torque_alc        0.979999         -0.891583         -0.792446   \n",
       "cavalos_gas       0.655952         -0.830617         -0.494176   \n",
       "cavalos_alc       0.509249         -0.777770         -0.486726   \n",
       "valor             0.865493         -0.926853         -0.779379   \n",
       "\n",
       "                  km/litro_alc_cid  km/litro_alc_est   peso/kg  torque_gas  \\\n",
       "motor                    -0.869554         -0.830857  0.519212    0.984488   \n",
       "km/litro_gas_cid          0.985578          0.827430 -0.849163   -0.864055   \n",
       "km/litro_gas_est          0.911291          0.993006 -0.505699   -0.815308   \n",
       "km/litro_alc_cid          1.000000          0.876499 -0.780866   -0.892767   \n",
       "km/litro_alc_est          0.876499          1.000000 -0.430494   -0.806842   \n",
       "peso/kg                  -0.780866         -0.430494  1.000000    0.559518   \n",
       "torque_gas               -0.892767         -0.806842  0.559518    1.000000   \n",
       "torque_alc               -0.902646         -0.771419  0.635374    0.991375   \n",
       "cavalos_gas              -0.807149         -0.429949  0.903014    0.737171   \n",
       "cavalos_alc              -0.774453         -0.403037  0.888140    0.603300   \n",
       "valor                    -0.890952         -0.722239  0.783627    0.838635   \n",
       "\n",
       "                  torque_alc  cavalos_gas  cavalos_alc     valor  \n",
       "motor               0.979999     0.655952     0.509249  0.865493  \n",
       "km/litro_gas_cid   -0.891583    -0.830617    -0.777770 -0.926853  \n",
       "km/litro_gas_est   -0.792446    -0.494176    -0.486726 -0.779379  \n",
       "km/litro_alc_cid   -0.902646    -0.807149    -0.774453 -0.890952  \n",
       "km/litro_alc_est   -0.771419    -0.429949    -0.403037 -0.722239  \n",
       "peso/kg             0.635374     0.903014     0.888140  0.783627  \n",
       "torque_gas          0.991375     0.737171     0.603300  0.838635  \n",
       "torque_alc          1.000000     0.788601     0.657396  0.892887  \n",
       "cavalos_gas         0.788601     1.000000     0.944692  0.769190  \n",
       "cavalos_alc         0.657396     0.944692     1.000000  0.709915  \n",
       "valor               0.892887     0.769190     0.709915  1.000000  "
      ]
     },
     "execution_count": 110,
     "metadata": {},
     "output_type": "execute_result"
    }
   ],
   "source": [
    "df.corr() # A correlação nos traz dados interessantes, por exemplo, linearidade entre \"valor x km/litro_\""
   ]
  },
  {
   "cell_type": "code",
   "execution_count": 111,
   "metadata": {},
   "outputs": [
    {
     "data": {
      "text/plain": [
       "<Figure size 1080x504 with 0 Axes>"
      ]
     },
     "metadata": {},
     "output_type": "display_data"
    },
    {
     "data": {
      "image/png": "[encoded data removed]",
      "text/plain": [
       "<Figure size 432x288 with 1 Axes>"
      ]
     },
     "metadata": {
      "needs_background": "light"
     },
     "output_type": "display_data"
    }
   ],
   "source": [
    "plt.figure(1, figsize = (15, 7));\n",
    "df.plot.scatter((['valor','km/litro_gas_cid']),(['valor','km/litro_alc_cid']));\n",
    "# A função scatter() nos traz um gráfico que corrobora com a linearidade que vimos."
   ]
  },
  {
   "cell_type": "code",
   "execution_count": 112,
   "metadata": {},
   "outputs": [
    {
     "data": {
      "image/png": "[encoded data removed]",
      "text/plain": [
       "<Figure size 720x360 with 1 Axes>"
      ]
     },
     "metadata": {
      "needs_background": "light"
     },
     "output_type": "display_data"
    }
   ],
   "source": [
    "# Começando nossa PCA\n",
    "# Selecionamos nossas colunas numéricas\n",
    "col_num = ['motor', 'km/litro_gas_cid', 'km/litro_gas_est', 'km/litro_alc_cid','km/litro_alc_est',\n",
    "           'peso/kg', 'torque_gas', 'torque_alc', 'cavalos_gas', 'cavalos_alc', 'valor']\n",
    "df_pca = df[col_num]\n",
    "# Instanciando o objeto PCA\n",
    "pca = PCA(n_components=2)\n",
    "# Ajustando o modelo PCA aos dados\n",
    "pca.fit(df_pca)\n",
    "# Tranformando os dados para novas dimensões\n",
    "df_pca_transformado = pca.transform(df_pca)\n",
    "# Plotando em um gráfico de dispersão com os dados transformados\n",
    "plt.figure(1, figsize=(10, 5))\n",
    "plt.scatter(df_pca_transformado[:, 0], df_pca_transformado[:, 1]) \n",
    "plt.xlabel('Componente Principal 1', color = \"orange\") \n",
    "plt.ylabel('Componente Principal 2', color = \"orange\") \n",
    "plt.show()\n"
   ]
  },
  {
   "cell_type": "code",
   "execution_count": 113,
   "metadata": {},
   "outputs": [],
   "source": [
    "X = df[['motor', 'km/litro_gas_cid', 'km/litro_gas_est', 'km/litro_alc_cid','km/litro_alc_est','peso/kg', 'torque_gas', 'torque_alc', 'cavalos_gas', 'cavalos_alc']]\n",
    "Y = df['valor']"
   ]
  },
  {
   "cell_type": "code",
   "execution_count": 114,
   "metadata": {},
   "outputs": [
    {
     "name": "stdout",
     "output_type": "stream",
     "text": [
      "[[ 0.00730917 -0.06764998 -0.05985596 -0.04757287 -0.03871679  0.00555726\n",
      "   0.07437366  0.07600178  0.27818508  0.25686471  0.9128637 ]\n",
      " [-0.00591433 -0.0171997   0.06312993 -0.01668843  0.0527985   0.0091925\n",
      "  -0.009444   -0.00464452  0.6115249   0.69102911 -0.37541767]]\n"
     ]
    }
   ],
   "source": [
    "# Verificando nossa matriz\n",
    "print(pca.components_)"
   ]
  },
  {
   "cell_type": "code",
   "execution_count": 115,
   "metadata": {},
   "outputs": [
    {
     "name": "stdout",
     "output_type": "stream",
     "text": [
      "[364.4715113   29.50358537]\n",
      "[0.91352114 0.07394857]\n"
     ]
    }
   ],
   "source": [
    "# Verificando os autovalores e os autovetores e a redução dos componentes\n",
    "print(pca.explained_variance_)\n",
    "print(pca.explained_variance_ratio_)"
   ]
  },
  {
   "cell_type": "code",
   "execution_count": 116,
   "metadata": {},
   "outputs": [
    {
     "data": {
      "text/html": [
       "<div>\n",
       "<style scoped>\n",
       "    .dataframe tbody tr th:only-of-type {\n",
       "        vertical-align: middle;\n",
       "    }\n",
       "\n",
       "    .dataframe tbody tr th {\n",
       "        vertical-align: top;\n",
       "    }\n",
       "\n",
       "    .dataframe thead th {\n",
       "        text-align: right;\n",
       "    }\n",
       "</style>\n",
       "<table border=\"1\" class=\"dataframe\">\n",
       "  <thead>\n",
       "    <tr style=\"text-align: right;\">\n",
       "      <th></th>\n",
       "      <th>PC1</th>\n",
       "      <th>PC2</th>\n",
       "    </tr>\n",
       "  </thead>\n",
       "  <tbody>\n",
       "    <tr>\n",
       "      <th>PC1</th>\n",
       "      <td>1.000000e+00</td>\n",
       "      <td>1.644494e-16</td>\n",
       "    </tr>\n",
       "    <tr>\n",
       "      <th>PC2</th>\n",
       "      <td>1.644494e-16</td>\n",
       "      <td>1.000000e+00</td>\n",
       "    </tr>\n",
       "  </tbody>\n",
       "</table>\n",
       "</div>"
      ],
      "text/plain": [
       "              PC1           PC2\n",
       "PC1  1.000000e+00  1.644494e-16\n",
       "PC2  1.644494e-16  1.000000e+00"
      ]
     },
     "execution_count": 116,
     "metadata": {},
     "output_type": "execute_result"
    }
   ],
   "source": [
    "# Verificando o coeficiente de correlação\n",
    "df_pca_transformado_df = pd.DataFrame(df_pca_transformado, columns=[\"PC1\", \"PC2\"])\n",
    "df_pca_transformado_df.corr()"
   ]
  },
  {
   "cell_type": "code",
   "execution_count": 117,
   "metadata": {},
   "outputs": [
    {
     "data": {
      "text/plain": [
       "array([[-11.91822714,   3.55702457],\n",
       "       [ -0.52442372,  -1.35284095],\n",
       "       [ -0.8162508 ,  -2.31832437],\n",
       "       [ -4.59726612,  -1.90941619],\n",
       "       [  2.18652962,   0.05153624],\n",
       "       [ 15.66963816,   1.9720207 ]])"
      ]
     },
     "execution_count": 117,
     "metadata": {},
     "output_type": "execute_result"
    }
   ],
   "source": [
    "# Transformando os valores de \"X\"\n",
    "X_pca = pca.fit_transform(X)\n",
    "X_pca"
   ]
  },
  {
   "cell_type": "code",
   "execution_count": 118,
   "metadata": {},
   "outputs": [
    {
     "name": "stdout",
     "output_type": "stream",
     "text": [
      "O melhor custo benefício é do  Ka hb\n"
     ]
    }
   ],
   "source": [
    "# Extraindo custo benefício\n",
    "# IMPORTANTE: Foi preciso incluir o parâmetro '-Y.mean()', para apontarmos qual automóvel está abaixo da\n",
    "# média do \"valor\"\n",
    "melhor_custo_beneficio = Y / (X_pca[:, 0] + X_pca[:, 1] - Y.mean())\n",
    "# encontrar o índice da amostra com o maior benefício\n",
    "melhor_custo = melhor_custo_beneficio.argmax()\n",
    "# imprimir a marca correspondente\n",
    "print('O melhor custo benefício é do ', df.iloc[melhor_custo]['modelo'])\n",
    "# Veja que é muito simples entender nosso objetivo, bastar olhar o dataset(pequeno) que fica fácil de perceber\n",
    "# que o 'Ka hb' tem o custo-benefício melhor."
   ]
  },
  {
   "cell_type": "markdown",
   "metadata": {},
   "source": [
    "## O 'Ka hb' tem o melhor custo benefício, então porque não vende mais que o 'Gol' e o 'Onix'?\n",
    "### Apesar da média de preço do 'Ka' ser mais atraente que os concorrentes e alguns quesitos serem melhores, ainda assim existem outros fatores que influenciam nas venda do produto, o 'design' e a 'marca' poderiam ser alguns deles. seria necessário uma análise mais direcionada para identificarmos esses elementos."
   ]
  },
  {
   "cell_type": "code",
   "execution_count": 149,
   "metadata": {},
   "outputs": [
    {
     "name": "stdout",
     "output_type": "stream",
     "text": [
      "O pior custo benefício é do  Strada CS\n"
     ]
    }
   ],
   "source": [
    "# Extraindo custo benefício\n",
    "# Mudando o parâmetro 'Y' para '+'(acima da média)\n",
    "pior_custo_beneficio = Y / (X_pca[:, 0] + X_pca[:, 1] + Y.mean())\n",
    "# encontrar o índice da amostra com o maior benefício\n",
    "pior_custo = pior_custo_beneficio.argmax()\n",
    "# imprimir a marca correspondente\n",
    "print('O pior custo benefício é do ', df.iloc[pior_custo]['modelo'])\n",
    "# Veja que é muito simples entender nosso objetivo, bastar olhar o dataset(pequeno) e fica fácil de perceber\n",
    "# que a 'Strada CS' tem o custo-benefício inferior aos demais."
   ]
  },
  {
   "cell_type": "markdown",
   "metadata": {},
   "source": [
    "## Então porque a 'Strada CS' vende mais? \n",
    "### A Strada perde na comparação de todos os quesitos, mas, é o único utilitário com carroceria aberta do grupo e também um motor 1.4, logo, esses poderiam vir a ser os diferenciais. Talvez fosse interessante descosidera-la da amostra e incluí-la em um grupo específico. Talvez a necessidade por este tipo de veículo pelas empresas possa explicar, mas, essa é outra análise."
   ]
  },
  {
   "cell_type": "code",
   "execution_count": 180,
   "metadata": {},
   "outputs": [
    {
     "data": {
      "image/png": "[encoded data removed]",
      "text/plain": [
       "<Figure size 864x360 with 1 Axes>"
      ]
     },
     "metadata": {
      "needs_background": "light"
     },
     "output_type": "display_data"
    }
   ],
   "source": [
    "# No fim, pela simples análise do gráfico, claramente por conta do fator \"preço\", fica fácil de entender\n",
    "# o melhor custo benefício, mesmo que o \"Kwid\" seja mais barato, ele não tem algumas características,\n",
    "# como robustez, etc...talvez a marca influencie neste resultado.\n",
    "plt.rcParams.update({'font.size': 12, 'lines.linewidth': 2})\n",
    "plt.figure(1, figsize=(12, 5))\n",
    "plt.bar(df['modelo'], df['valor'], color = 'green')\n",
    "plt.xlabel ('Modelos', color = 'orange')\n",
    "plt.ylabel ('Valores', color = 'orange')\n",
    "plt.grid(True)\n",
    "plt.title(\"Modelos x Preços\", color = 'orange')\n",
    "plt.show()"
   ]
  },
  {
   "cell_type": "markdown",
   "metadata": {},
   "source": [
    "## Lembrando que este trabalho é apenas um fragmento simples e diminuto do que poderia ser a PCA. Comprender o que são \"pca.explained_variance\" e \"pca.explained_variance_ratio\" no contexto das amostras é fundamental para sua aplicação correta.\n",
    "### Portanto, entender o objetivo e a necessidade da análise é fundamental para a correta aplicação das diversas ferramentas que temos disponíveis, não só em Python, mas, em outras plataformas e linguagens."
   ]
  }
 ],
 "metadata": {
  "kernelspec": {
   "display_name": "Python 3",
   "language": "python",
   "name": "python3"
  },
  "language_info": {
   "codemirror_mode": {
    "name": "ipython",
    "version": 3
   },
   "file_extension": ".py",
   "mimetype": "text/x-python",
   "name": "python",
   "nbconvert_exporter": "python",
   "pygments_lexer": "ipython3",
   "version": "3.8.5"
  },
  "varInspector": {
   "cols": {
    "lenName": 16,
    "lenType": 16,
    "lenVar": 40
   },
   "kernels_config": {
    "python": {
     "delete_cmd_postfix": "",
     "delete_cmd_prefix": "del ",
     "library": "var_list.py",
     "varRefreshCmd": "print(var_dic_list())"
    },
    "r": {
     "delete_cmd_postfix": ") ",
     "delete_cmd_prefix": "rm(",
     "library": "var_list.r",
     "varRefreshCmd": "cat(var_dic_list()) "
    }
   },
   "types_to_exclude": [
    "module",
    "function",
    "builtin_function_or_method",
    "instance",
    "_Feature"
   ],
   "window_display": false
  }
 },
 "nbformat": 4,
 "nbformat_minor": 4
}
