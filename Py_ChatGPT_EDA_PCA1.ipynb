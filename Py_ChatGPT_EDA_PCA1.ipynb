{
 "cells": [
  {
   "cell_type": "markdown",
   "metadata": {},
   "source": [
    "## Criamos um dataset para exemplificar o estudo da EDA e do PCA\n",
    "### Após a criação/importação do Dataset, precisamos entender o que queremos.\n",
    "### É fundamental entender qual é o objetivo do estudo, qual é a necessidade.\n",
    "### Vamos supor que queremos saber qual o melhor \"custo-benefício\" dentre os automóveis citados - OBJETIVO: CUSTO-BENEFÍCIO"
   ]
  },
  {
   "cell_type": "code",
   "execution_count": 4,
   "metadata": {},
   "outputs": [],
   "source": [
    "# IMPORTANDO AS BIBLIOTECAS\n",
    "import pandas as pd\n",
    "import numpy as np"
   ]
  },
  {
   "cell_type": "code",
   "execution_count": 5,
   "metadata": {},
   "outputs": [],
   "source": [
    "#CRIANDO UM DATASET E ANALISANDO VISUALMENTE (ISSO É FUNDAMENTAL PARA ENTENDERMOS O DATASET)\n",
    "auto = {'modelo': ['Ferrari 488', 'Lamborghini Huracan', 'Aston Martin Vantage', \n",
    "                   'McLaren 720S', 'Porsche 911 Turbo', 'Audi R8', 'BMW i8', \n",
    "                   'Mercedes AMG GT', 'Nissan GTR', 'Ford GT'],\n",
    "              'km/litro': [8, 9, 10, 11, 12, 13, 14, 15, 16, 17],\n",
    "              'cilindros': [8, 10, 12, 8, 6, 8, 3, 8, 6, 8],\n",
    "              'peso/kg': [1400, 1350, 1250, 1500, 1700, 1600, 1700, 1800, 2000, 1800],\n",
    "              'velocidade_maxima': [320, 340, 350, 360, 370, 380, 390, 400, 410, 420],\n",
    "              'cavalos': [700, 750, 800, 850, 900, 950, 1000, 1050, 1100, 1150],\n",
    "              'tipo_de_transmissao': ['Manual', 'Automático', 'Automático', 'Manual', 'Automático', \n",
    "                                      'Manual', 'Automático', 'Automático', 'Manual', 'Automático'],\n",
    "              'valor': [300000, 280000, 260000, 240000, 220000, 200000, 180000, 160000, 140000, 120000],\n",
    "              'categoria': ['Importado', 'Importado', 'Importado', 'Importado', 'Importado', 'Importado', \n",
    "                            'Importado', 'Importado', 'Importado', 'Nacional']\n",
    "       }                "
   ]
  },
  {
   "cell_type": "code",
   "execution_count": 7,
   "metadata": {},
   "outputs": [
    {
     "name": "stdout",
     "output_type": "stream",
     "text": [
      "                 modelo  km/litro  cilindros  peso/kg  velocidade_maxima  \\\n",
      "0           Ferrari 488         8          8     1400                320   \n",
      "1   Lamborghini Huracan         9         10     1350                340   \n",
      "2  Aston Martin Vantage        10         12     1250                350   \n",
      "3          McLaren 720S        11          8     1500                360   \n",
      "4     Porsche 911 Turbo        12          6     1700                370   \n",
      "5               Audi R8        13          8     1600                380   \n",
      "6                BMW i8        14          3     1700                390   \n",
      "7       Mercedes AMG GT        15          8     1800                400   \n",
      "8            Nissan GTR        16          6     2000                410   \n",
      "9               Ford GT        17          8     1800                420   \n",
      "\n",
      "   cavalos tipo_de_transmissao   valor  categoria  \n",
      "0      700              Manual  300000  Importado  \n",
      "1      750          Automático  280000  Importado  \n",
      "2      800          Automático  260000  Importado  \n",
      "3      850              Manual  240000  Importado  \n",
      "4      900          Automático  220000  Importado  \n",
      "5      950              Manual  200000  Importado  \n",
      "6     1000          Automático  180000  Importado  \n",
      "7     1050          Automático  160000  Importado  \n",
      "8     1100              Manual  140000  Importado  \n",
      "9     1150          Automático  120000   Nacional  \n"
     ]
    }
   ],
   "source": [
    "# VISUALIZANDO O DATASET\n",
    "# A PRIMEIRA COISA QUE NOS CHAMA A ATENÇÃO É QUE TEMOS UM ÚNICO AUTOMÓVEL \"NACIONAL\", LOGO, COM A COOPERAÇÃO\n",
    "# DA EQUIPE (ENVOLVIDOS), PODEMOS SUGERIR A RETIRADA DESTA LINHA;\n",
    "# TAMBÉM PODEMOS DIVIDIR O DATASET EM DOIS OUTROS DATASETS, UM SÓ PARA AUTOMÓVEIS \"MANUAL\" E OUTRO PARA\n",
    "# \"IMPORTADOS\" OU AINDA, PODEMOS ANALISAR DAS DUAS FORMAS, JUNTOS E SEPARADOS (ENTENDIMENTO/NECESSIDADE);\n",
    "df =pd.DataFrame(auto)\n",
    "print(df)"
   ]
  },
  {
   "cell_type": "code",
   "execution_count": 8,
   "metadata": {},
   "outputs": [
    {
     "data": {
      "text/html": [
       "<div>\n",
       "<style scoped>\n",
       "    .dataframe tbody tr th:only-of-type {\n",
       "        vertical-align: middle;\n",
       "    }\n",
       "\n",
       "    .dataframe tbody tr th {\n",
       "        vertical-align: top;\n",
       "    }\n",
       "\n",
       "    .dataframe thead th {\n",
       "        text-align: right;\n",
       "    }\n",
       "</style>\n",
       "<table border=\"1\" class=\"dataframe\">\n",
       "  <thead>\n",
       "    <tr style=\"text-align: right;\">\n",
       "      <th></th>\n",
       "      <th>km/litro</th>\n",
       "      <th>cilindros</th>\n",
       "      <th>peso/kg</th>\n",
       "      <th>velocidade_maxima</th>\n",
       "      <th>cavalos</th>\n",
       "      <th>valor</th>\n",
       "    </tr>\n",
       "  </thead>\n",
       "  <tbody>\n",
       "    <tr>\n",
       "      <th>count</th>\n",
       "      <td>10.00000</td>\n",
       "      <td>10.000000</td>\n",
       "      <td>10.000000</td>\n",
       "      <td>10.00000</td>\n",
       "      <td>10.000000</td>\n",
       "      <td>10.000000</td>\n",
       "    </tr>\n",
       "    <tr>\n",
       "      <th>mean</th>\n",
       "      <td>12.50000</td>\n",
       "      <td>7.700000</td>\n",
       "      <td>1610.000000</td>\n",
       "      <td>374.00000</td>\n",
       "      <td>925.000000</td>\n",
       "      <td>210000.000000</td>\n",
       "    </tr>\n",
       "    <tr>\n",
       "      <th>std</th>\n",
       "      <td>3.02765</td>\n",
       "      <td>2.406011</td>\n",
       "      <td>234.283779</td>\n",
       "      <td>32.04164</td>\n",
       "      <td>151.382518</td>\n",
       "      <td>60553.007082</td>\n",
       "    </tr>\n",
       "    <tr>\n",
       "      <th>min</th>\n",
       "      <td>8.00000</td>\n",
       "      <td>3.000000</td>\n",
       "      <td>1250.000000</td>\n",
       "      <td>320.00000</td>\n",
       "      <td>700.000000</td>\n",
       "      <td>120000.000000</td>\n",
       "    </tr>\n",
       "    <tr>\n",
       "      <th>25%</th>\n",
       "      <td>10.25000</td>\n",
       "      <td>6.500000</td>\n",
       "      <td>1425.000000</td>\n",
       "      <td>352.50000</td>\n",
       "      <td>812.500000</td>\n",
       "      <td>165000.000000</td>\n",
       "    </tr>\n",
       "    <tr>\n",
       "      <th>50%</th>\n",
       "      <td>12.50000</td>\n",
       "      <td>8.000000</td>\n",
       "      <td>1650.000000</td>\n",
       "      <td>375.00000</td>\n",
       "      <td>925.000000</td>\n",
       "      <td>210000.000000</td>\n",
       "    </tr>\n",
       "    <tr>\n",
       "      <th>75%</th>\n",
       "      <td>14.75000</td>\n",
       "      <td>8.000000</td>\n",
       "      <td>1775.000000</td>\n",
       "      <td>397.50000</td>\n",
       "      <td>1037.500000</td>\n",
       "      <td>255000.000000</td>\n",
       "    </tr>\n",
       "    <tr>\n",
       "      <th>max</th>\n",
       "      <td>17.00000</td>\n",
       "      <td>12.000000</td>\n",
       "      <td>2000.000000</td>\n",
       "      <td>420.00000</td>\n",
       "      <td>1150.000000</td>\n",
       "      <td>300000.000000</td>\n",
       "    </tr>\n",
       "  </tbody>\n",
       "</table>\n",
       "</div>"
      ],
      "text/plain": [
       "       km/litro  cilindros      peso/kg  velocidade_maxima      cavalos  \\\n",
       "count  10.00000  10.000000    10.000000           10.00000    10.000000   \n",
       "mean   12.50000   7.700000  1610.000000          374.00000   925.000000   \n",
       "std     3.02765   2.406011   234.283779           32.04164   151.382518   \n",
       "min     8.00000   3.000000  1250.000000          320.00000   700.000000   \n",
       "25%    10.25000   6.500000  1425.000000          352.50000   812.500000   \n",
       "50%    12.50000   8.000000  1650.000000          375.00000   925.000000   \n",
       "75%    14.75000   8.000000  1775.000000          397.50000  1037.500000   \n",
       "max    17.00000  12.000000  2000.000000          420.00000  1150.000000   \n",
       "\n",
       "               valor  \n",
       "count      10.000000  \n",
       "mean   210000.000000  \n",
       "std     60553.007082  \n",
       "min    120000.000000  \n",
       "25%    165000.000000  \n",
       "50%    210000.000000  \n",
       "75%    255000.000000  \n",
       "max    300000.000000  "
      ]
     },
     "execution_count": 8,
     "metadata": {},
     "output_type": "execute_result"
    }
   ],
   "source": [
    "# BUSCANDO AS INFORMAÇÕES DO DATASET, SEGUINDO O ROTEIRO DO ChatGPT.\n",
    "# O NOSSO DATASET É PEQUENO, MAS VAMOS SEGUIR O PROTOCOLO.\n",
    "df.describe() # A função \"describe()\" nos traz a estatística básica. Podemos destacar a média \"mean\", que \n",
    "# nos trás dados interessante que nos ajudam a entender melhor os dados."
   ]
  },
  {
   "cell_type": "code",
   "execution_count": 9,
   "metadata": {},
   "outputs": [
    {
     "name": "stdout",
     "output_type": "stream",
     "text": [
      "<class 'pandas.core.frame.DataFrame'>\n",
      "RangeIndex: 10 entries, 0 to 9\n",
      "Data columns (total 9 columns):\n",
      " #   Column               Non-Null Count  Dtype \n",
      "---  ------               --------------  ----- \n",
      " 0   modelo               10 non-null     object\n",
      " 1   km/litro             10 non-null     int64 \n",
      " 2   cilindros            10 non-null     int64 \n",
      " 3   peso/kg              10 non-null     int64 \n",
      " 4   velocidade_maxima    10 non-null     int64 \n",
      " 5   cavalos              10 non-null     int64 \n",
      " 6   tipo_de_transmissao  10 non-null     object\n",
      " 7   valor                10 non-null     int64 \n",
      " 8   categoria            10 non-null     object\n",
      "dtypes: int64(6), object(3)\n",
      "memory usage: 848.0+ bytes\n"
     ]
    }
   ],
   "source": [
    "df.info() # A função \"info()\" nos dá um panorama dos tipo de dados e a sua condição.\n",
    "          # Veja que não temos dados nulos (Non-Null) e os tipos estão descritos corretamente, onde precisa\n",
    "          # ser texto está \"object(string)\" ou ainda,onde precisa ser número está \"Float/Int (int64)\" \n",
    "          # É importante lembrar que nem sempre é assim. É muito comum termo valores nulos e descritos de \n",
    "          # de forma equivocada. Ex: A coluna \" cilindros\" poderia está como \"object\" e seria necessário\n",
    "          # o tratamento adequado de TRANSFORMAÇÃO DOS DADOS."
   ]
  },
  {
   "cell_type": "code",
   "execution_count": 10,
   "metadata": {},
   "outputs": [
    {
     "data": {
      "text/html": [
       "<div>\n",
       "<style scoped>\n",
       "    .dataframe tbody tr th:only-of-type {\n",
       "        vertical-align: middle;\n",
       "    }\n",
       "\n",
       "    .dataframe tbody tr th {\n",
       "        vertical-align: top;\n",
       "    }\n",
       "\n",
       "    .dataframe thead th {\n",
       "        text-align: right;\n",
       "    }\n",
       "</style>\n",
       "<table border=\"1\" class=\"dataframe\">\n",
       "  <thead>\n",
       "    <tr style=\"text-align: right;\">\n",
       "      <th></th>\n",
       "      <th>km/litro</th>\n",
       "      <th>cilindros</th>\n",
       "      <th>peso/kg</th>\n",
       "      <th>velocidade_maxima</th>\n",
       "      <th>cavalos</th>\n",
       "      <th>valor</th>\n",
       "    </tr>\n",
       "  </thead>\n",
       "  <tbody>\n",
       "    <tr>\n",
       "      <th>km/litro</th>\n",
       "      <td>1.000000</td>\n",
       "      <td>-0.465215</td>\n",
       "      <td>0.892862</td>\n",
       "      <td>0.996452</td>\n",
       "      <td>1.000000</td>\n",
       "      <td>-1.000000</td>\n",
       "    </tr>\n",
       "    <tr>\n",
       "      <th>cilindros</th>\n",
       "      <td>-0.465215</td>\n",
       "      <td>1.000000</td>\n",
       "      <td>-0.664274</td>\n",
       "      <td>-0.443911</td>\n",
       "      <td>-0.465215</td>\n",
       "      <td>0.465215</td>\n",
       "    </tr>\n",
       "    <tr>\n",
       "      <th>peso/kg</th>\n",
       "      <td>0.892862</td>\n",
       "      <td>-0.664274</td>\n",
       "      <td>1.000000</td>\n",
       "      <td>0.874758</td>\n",
       "      <td>0.892862</td>\n",
       "      <td>-0.892862</td>\n",
       "    </tr>\n",
       "    <tr>\n",
       "      <th>velocidade_maxima</th>\n",
       "      <td>0.996452</td>\n",
       "      <td>-0.443911</td>\n",
       "      <td>0.874758</td>\n",
       "      <td>1.000000</td>\n",
       "      <td>0.996452</td>\n",
       "      <td>-0.996452</td>\n",
       "    </tr>\n",
       "    <tr>\n",
       "      <th>cavalos</th>\n",
       "      <td>1.000000</td>\n",
       "      <td>-0.465215</td>\n",
       "      <td>0.892862</td>\n",
       "      <td>0.996452</td>\n",
       "      <td>1.000000</td>\n",
       "      <td>-1.000000</td>\n",
       "    </tr>\n",
       "    <tr>\n",
       "      <th>valor</th>\n",
       "      <td>-1.000000</td>\n",
       "      <td>0.465215</td>\n",
       "      <td>-0.892862</td>\n",
       "      <td>-0.996452</td>\n",
       "      <td>-1.000000</td>\n",
       "      <td>1.000000</td>\n",
       "    </tr>\n",
       "  </tbody>\n",
       "</table>\n",
       "</div>"
      ],
      "text/plain": [
       "                   km/litro  cilindros   peso/kg  velocidade_maxima   cavalos  \\\n",
       "km/litro           1.000000  -0.465215  0.892862           0.996452  1.000000   \n",
       "cilindros         -0.465215   1.000000 -0.664274          -0.443911 -0.465215   \n",
       "peso/kg            0.892862  -0.664274  1.000000           0.874758  0.892862   \n",
       "velocidade_maxima  0.996452  -0.443911  0.874758           1.000000  0.996452   \n",
       "cavalos            1.000000  -0.465215  0.892862           0.996452  1.000000   \n",
       "valor             -1.000000   0.465215 -0.892862          -0.996452 -1.000000   \n",
       "\n",
       "                      valor  \n",
       "km/litro          -1.000000  \n",
       "cilindros          0.465215  \n",
       "peso/kg           -0.892862  \n",
       "velocidade_maxima -0.996452  \n",
       "cavalos           -1.000000  \n",
       "valor              1.000000  "
      ]
     },
     "execution_count": 10,
     "metadata": {},
     "output_type": "execute_result"
    }
   ],
   "source": [
    "# A função \"corr()\" nos traz a correlação entre os dados, o que é muito simples, mas, muito importante, pois,\n",
    "# \"OBSERVANDO\" os dados podemos ver a forte \"correlação\" entre \"km/litro x cavalos x valor\", que já nos dá\n",
    "# um entendimento interessante, nos aproximando do objetivo de nossa análise -> CUSTO-BENEFÍCIO. Outro ponto\n",
    "# importante é a correlação do \"km/litro x velocidade_maxima\", podemos deduzir que quanto mais rápido, mais\n",
    "# o consumo aumenta -> Informação importante.\n",
    "df.corr()"
   ]
  },
  {
   "cell_type": "code",
   "execution_count": 16,
   "metadata": {},
   "outputs": [
    {
     "data": {
      "image/png": "[encoded data removed]",
      "text/plain": [
       "<Figure size 432x288 with 1 Axes>"
      ]
     },
     "metadata": {
      "needs_background": "light"
     },
     "output_type": "display_data"
    }
   ],
   "source": [
    "# A finção plo.scatter() nos dá uma visão mais ampla do que vimos na correlação. Repare que, apesar de muito\n",
    "# simples, fica muito mais fácil entender que \"quanto maior a velocidade, maior o consumo\".\n",
    "# a função corrobora com o que vimos na função \"df.corr\".\n",
    "df.plot.scatter(['km/litro'],['velocidade_maxima']);"
   ]
  },
  {
   "cell_type": "code",
   "execution_count": 31,
   "metadata": {},
   "outputs": [
    {
     "data": {
      "image/png": "[encoded data removed]",
      "text/plain": [
       "<Figure size 432x288 with 1 Axes>"
      ]
     },
     "metadata": {
      "needs_background": "light"
     },
     "output_type": "display_data"
    }
   ],
   "source": [
    "# A função gráfica \"df.plot.bar\" nos dá um panorama interessante quanto aos \"motivos\" dos valores dos\n",
    "# automóveis. Repare que quanto \"mais pesado\", quanto \"mais cavalos\", mai \"caro\" o automóvel fica.\n",
    "# Este gráfico nos dá uma visão muito próxima de nosso objetivo.\n",
    "df.plot.bar(x = 'valor');"
   ]
  },
  {
   "cell_type": "markdown",
   "metadata": {},
   "source": [
    "### Continua no \"2\""
   ]
  }
 ],
 "metadata": {
  "kernelspec": {
   "display_name": "Python 3",
   "language": "python",
   "name": "python3"
  },
  "language_info": {
   "codemirror_mode": {
    "name": "ipython",
    "version": 3
   },
   "file_extension": ".py",
   "mimetype": "text/x-python",
   "name": "python",
   "nbconvert_exporter": "python",
   "pygments_lexer": "ipython3",
   "version": "3.8.5"
  },
  "varInspector": {
   "cols": {
    "lenName": 16,
    "lenType": 16,
    "lenVar": 40
   },
   "kernels_config": {
    "python": {
     "delete_cmd_postfix": "",
     "delete_cmd_prefix": "del ",
     "library": "var_list.py",
     "varRefreshCmd": "print(var_dic_list())"
    },
    "r": {
     "delete_cmd_postfix": ") ",
     "delete_cmd_prefix": "rm(",
     "library": "var_list.r",
     "varRefreshCmd": "cat(var_dic_list()) "
    }
   },
   "types_to_exclude": [
    "module",
    "function",
    "builtin_function_or_method",
    "instance",
    "_Feature"
   ],
   "window_display": false
  }
 },
 "nbformat": 4,
 "nbformat_minor": 4
}
